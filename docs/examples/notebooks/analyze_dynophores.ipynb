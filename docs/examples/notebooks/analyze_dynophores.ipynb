{
 "cells": [
  {
   "cell_type": "markdown",
   "metadata": {},
   "source": [
    "# Analyze dynophores"
   ]
  },
  {
   "cell_type": "markdown",
   "metadata": {},
   "source": [
    "## Aim of this notebook\n",
    "\n",
    "Explore how to analyze dynophores in a Jupyter notebook!"
   ]
  },
  {
   "cell_type": "code",
   "execution_count": 1,
   "metadata": {},
   "outputs": [],
   "source": [
    "%load_ext autoreload\n",
    "%autoreload 2"
   ]
  },
  {
   "cell_type": "code",
   "execution_count": 2,
   "metadata": {},
   "outputs": [],
   "source": [
    "from collections import defaultdict\n",
    "import json\n",
    "from pathlib import Path\n",
    "\n",
    "import numpy as np\n",
    "import pandas as pd\n",
    "\n",
    "import dynophores"
   ]
  },
  {
   "cell_type": "markdown",
   "metadata": {},
   "source": [
    "## Read data files"
   ]
  },
  {
   "cell_type": "code",
   "execution_count": 3,
   "metadata": {},
   "outputs": [],
   "source": [
    "DATA = Path('../data/out/DynophoreApp')"
   ]
  },
  {
   "cell_type": "code",
   "execution_count": 4,
   "metadata": {},
   "outputs": [
    {
     "data": {
      "text/plain": [
       "[PosixPath('../data/out/DynophoreApp/1KE7-1_Data__superFeature_HBA[4619]%12.3.txt'),\n",
       " PosixPath('../data/out/DynophoreApp/1KE7-1_Data__superFeature_HBA[4618]%0.2.txt'),\n",
       " PosixPath('../data/out/DynophoreApp/1KE7-1_Data__superFeature_AR[4622,4615,4623,4613,4614,4621]%4.0.txt')]"
      ]
     },
     "execution_count": 4,
     "metadata": {},
     "output_type": "execute_result"
    }
   ],
   "source": [
    "dynophore_files = [file for file in DATA.glob('*')]\n",
    "dynophore_files[:3]"
   ]
  },
  {
   "cell_type": "markdown",
   "metadata": {},
   "source": [
    "### Json"
   ]
  },
  {
   "cell_type": "code",
   "execution_count": 7,
   "metadata": {},
   "outputs": [],
   "source": [
    "# Initialize dynophore\n",
    "dynophore = {'dynophore': []}\n",
    "\n",
    "# Get superfeatures\n",
    "superfeature_names = set([file.stem.split('_')[4].split('%')[0] for file in dynophore_files])\n",
    "\n",
    "for superfeature_name in superfeature_names:\n",
    "    \n",
    "    # Get all files with this superfeature\n",
    "    superfeature_files = [file for file in dynophore_files if superfeature_name in file.stem]\n",
    "    \n",
    "    # Get superfeature file\n",
    "    assert len([file for file in superfeature_files if len(file.stem.split('_')) == 5]) == 1\n",
    "    superfeature_file = [file for file in superfeature_files if len(file.stem.split('_')) == 5][0]\n",
    "    \n",
    "    # Set superfeature\n",
    "    superfeature = {'name': superfeature_name, 'file': str(superfeature_file), 'env_partners': []}\n",
    "    \n",
    "    # Get environmental partner files for this superfeature\n",
    "    for file in superfeature_files:\n",
    "        if len(file.stem.split('_')) == 7:\n",
    "            env_partner_file = file\n",
    "            env_partner_name = env_partner_file.stem.split('_')[6].split('%')[0]\n",
    "            env_partner = {'name': env_partner_name, 'file': str(env_partner_file)}\n",
    "            superfeature['env_partners'].append(env_partner)\n",
    "        \n",
    "    dynophore['dynophore'].append(superfeature)"
   ]
  },
  {
   "cell_type": "code",
   "execution_count": 8,
   "metadata": {},
   "outputs": [],
   "source": [
    "with open(DATA / '..' / 'dynophore_metadata.json', 'w') as f:\n",
    "    json.dump(dynophore, f)"
   ]
  },
  {
   "cell_type": "markdown",
   "metadata": {},
   "source": [
    "### Superfeatures"
   ]
  },
  {
   "cell_type": "markdown",
   "metadata": {},
   "source": [
    "#### Superfeatures occurrence"
   ]
  },
  {
   "cell_type": "code",
   "execution_count": null,
   "metadata": {},
   "outputs": [],
   "source": [
    "occurrence_superfeatures = pd.concat(\n",
    "    [pd.read_csv(superfeature['file'], header=None) for superfeature in dynophore['dynophore']], \n",
    "    axis=1\n",
    ")\n",
    "occurrence_superfeatures.columns = [superfeature['name'] for superfeature in dynophore['dynophore']]\n",
    "occurrence_superfeatures.head()"
   ]
  },
  {
   "cell_type": "code",
   "execution_count": null,
   "metadata": {},
   "outputs": [],
   "source": [
    "type(occurrence_superfeatures.iloc[0, 0])"
   ]
  },
  {
   "cell_type": "markdown",
   "metadata": {},
   "source": [
    "### Interactions"
   ]
  },
  {
   "cell_type": "code",
   "execution_count": null,
   "metadata": {},
   "outputs": [],
   "source": [
    "def read_interactions(dynophore, type='occurrence'):\n",
    "    \n",
    "    types = ['occurrence', 'distance']\n",
    "    if type == 'occurrence':\n",
    "        type_ix = 1\n",
    "    elif type == 'distance':\n",
    "        type_ix = 0\n",
    "    else:\n",
    "        raise ValueError(f'Wrong type. Select from: {\", \".join(types)}')\n",
    "    \n",
    "    interactions = defaultdict()\n",
    "\n",
    "    for superfeature in dynophore['dynophore']:\n",
    "\n",
    "        interaction = pd.concat(\n",
    "            [pd.read_csv(env_partner['file'], header=None)[type_ix] for env_partner in superfeature['env_partners']], \n",
    "            axis=1\n",
    "        )\n",
    "        interaction.columns = [env_partner['name'] for env_partner in superfeature['env_partners']]\n",
    "        interactions[superfeature['name']] = interaction\n",
    "\n",
    "    return interactions"
   ]
  },
  {
   "cell_type": "markdown",
   "metadata": {},
   "source": [
    "#### Interactions occurrence"
   ]
  },
  {
   "cell_type": "code",
   "execution_count": null,
   "metadata": {},
   "outputs": [],
   "source": [
    "interactions_occurrence = read_interactions(dynophore, type='occurrence')\n",
    "print(interactions_occurrence.keys())\n",
    "interactions_occurrence['HBD[4612]'].head()"
   ]
  },
  {
   "cell_type": "code",
   "execution_count": null,
   "metadata": {},
   "outputs": [],
   "source": [
    "type(interactions_occurrence['HBD[4612]'].iloc[0, 0])"
   ]
  },
  {
   "cell_type": "markdown",
   "metadata": {},
   "source": [
    "#### Interactions distances"
   ]
  },
  {
   "cell_type": "code",
   "execution_count": null,
   "metadata": {},
   "outputs": [],
   "source": [
    "interactions_distance = read_interactions(dynophore, type='distance')\n",
    "print(interactions_distance.keys())\n",
    "interactions_distance['HBD[4612]'].head()"
   ]
  },
  {
   "cell_type": "code",
   "execution_count": null,
   "metadata": {},
   "outputs": [],
   "source": [
    "type(interactions_distance['HBD[4612]'].iloc[0, 0])"
   ]
  },
  {
   "cell_type": "markdown",
   "metadata": {},
   "source": [
    "### `Dynophore` instance"
   ]
  },
  {
   "cell_type": "code",
   "execution_count": null,
   "metadata": {},
   "outputs": [],
   "source": [
    "dynophore = dynophores.Dynophore()"
   ]
  },
  {
   "cell_type": "code",
   "execution_count": null,
   "metadata": {},
   "outputs": [],
   "source": [
    "dynophore._get_file_components(dynophore_files[0])"
   ]
  },
  {
   "cell_type": "code",
   "execution_count": null,
   "metadata": {},
   "outputs": [],
   "source": [
    "\n",
    "dynophore.from_file(DATA)\n",
    "    \n",
    "    "
   ]
  },
  {
   "cell_type": "code",
   "execution_count": null,
   "metadata": {},
   "outputs": [],
   "source": [
    "dynophore._get_file_components()"
   ]
  },
  {
   "cell_type": "code",
   "execution_count": null,
   "metadata": {},
   "outputs": [],
   "source": [
    "dynophore = from_files(DATA)\n",
    "\n",
    "print(dynophore.id)\n",
    "print(dynophore.superfeatures[2].id)\n",
    "print(dynophore.superfeatures[2].feature_type)\n",
    "print(dynophore.superfeatures[2].atom_numbers)\n",
    "print(dynophore.superfeatures[2].occurrences)\n",
    "print(dynophore.superfeatures[2].envpartners[0].id)\n",
    "print(dynophore.superfeatures[2].envpartners[0].residue_name)\n",
    "print(dynophore.superfeatures[2].envpartners[0].residue_number)\n",
    "print(dynophore.superfeatures[2].envpartners[0].chain)\n",
    "print(dynophore.superfeatures[2].envpartners[0].atom_numbers)\n",
    "print(dynophore.superfeatures[2].envpartners[0].occurrences)\n",
    "print(dynophore.superfeatures[2].envpartners[0].distances)"
   ]
  },
  {
   "cell_type": "code",
   "execution_count": null,
   "metadata": {},
   "outputs": [],
   "source": []
  },
  {
   "cell_type": "code",
   "execution_count": null,
   "metadata": {},
   "outputs": [],
   "source": []
  }
 ],
 "metadata": {
  "kernelspec": {
   "display_name": "dynophores",
   "language": "python",
   "name": "dynophores"
  },
  "language_info": {
   "codemirror_mode": {
    "name": "ipython",
    "version": 3
   },
   "file_extension": ".py",
   "mimetype": "text/x-python",
   "name": "python",
   "nbconvert_exporter": "python",
   "pygments_lexer": "ipython3",
   "version": "3.8.3"
  }
 },
 "nbformat": 4,
 "nbformat_minor": 4
}
