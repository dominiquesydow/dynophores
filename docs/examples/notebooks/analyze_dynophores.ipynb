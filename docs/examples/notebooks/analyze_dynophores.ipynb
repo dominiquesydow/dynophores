{
 "cells": [
  {
   "cell_type": "markdown",
   "metadata": {},
   "source": [
    "# Analyze dynophores"
   ]
  },
  {
   "cell_type": "markdown",
   "metadata": {},
   "source": [
    "## Aim of this notebook\n",
    "\n",
    "Explore how to analyze dynophores in a Jupyter notebook!"
   ]
  },
  {
   "cell_type": "code",
   "execution_count": 1,
   "metadata": {},
   "outputs": [],
   "source": [
    "from collections import defaultdict\n",
    "import json\n",
    "from pathlib import Path\n",
    "\n",
    "import pandas as pd"
   ]
  },
  {
   "cell_type": "markdown",
   "metadata": {},
   "source": [
    "## Read data files"
   ]
  },
  {
   "cell_type": "code",
   "execution_count": 2,
   "metadata": {},
   "outputs": [],
   "source": [
    "DATA = Path('../data/out/DynophoreApp')"
   ]
  },
  {
   "cell_type": "code",
   "execution_count": 3,
   "metadata": {},
   "outputs": [
    {
     "data": {
      "text/plain": [
       "[PosixPath('../data/out/DynophoreApp/1KE7-1_Data__superFeature_HBA[4619]%12.3.txt'),\n",
       " PosixPath('../data/out/DynophoreApp/1KE7-1_Data__superFeature_HBA[4618]%0.2.txt'),\n",
       " PosixPath('../data/out/DynophoreApp/1KE7-1_Data__superFeature_AR[4622,4615,4623,4613,4614,4621]%4.0.txt')]"
      ]
     },
     "execution_count": 3,
     "metadata": {},
     "output_type": "execute_result"
    }
   ],
   "source": [
    "dynophores_files = [file for file in DATA.glob('*')]\n",
    "dynophores_files[:3]"
   ]
  },
  {
   "cell_type": "code",
   "execution_count": 4,
   "metadata": {},
   "outputs": [
    {
     "data": {
      "text/plain": [
       "38"
      ]
     },
     "execution_count": 4,
     "metadata": {},
     "output_type": "execute_result"
    }
   ],
   "source": [
    "len(dynophores_files)"
   ]
  },
  {
   "cell_type": "code",
   "execution_count": 5,
   "metadata": {},
   "outputs": [],
   "source": [
    "# Initialize dynophore\n",
    "dynophore = {'dynophore': []}\n",
    "\n",
    "# Get superfeatures\n",
    "superfeature_names = set([file.stem.split('_')[4].split('%')[0] for file in dynophores_files])\n",
    "\n",
    "for superfeature_name in superfeature_names:\n",
    "    \n",
    "    # Get all files with this superfeature\n",
    "    superfeature_files = [file for file in dynophores_files if superfeature_name in file.stem]\n",
    "    \n",
    "    # Get superfeature file\n",
    "    assert len([file for file in superfeature_files if len(file.stem.split('_')) == 5]) == 1\n",
    "    superfeature_file = [file for file in superfeature_files if len(file.stem.split('_')) == 5][0]\n",
    "    \n",
    "    # Set superfeature\n",
    "    superfeature = {'name': superfeature_name, 'file': str(superfeature_file), 'env_partners': []}\n",
    "    \n",
    "    # Get environmental partner files for this superfeature\n",
    "    for file in superfeature_files:\n",
    "        if len(file.stem.split('_')) == 7:\n",
    "            env_partner_file = file\n",
    "            env_partner_name = env_partner_file.stem.split('_')[6].split('%')[0]\n",
    "            env_partner = {'name': env_partner_name, 'file': str(env_partner_file)}\n",
    "            superfeature['env_partners'].append(env_partner)\n",
    "        \n",
    "    dynophore['dynophore'].append(superfeature)"
   ]
  },
  {
   "cell_type": "code",
   "execution_count": 6,
   "metadata": {},
   "outputs": [],
   "source": [
    "with open(DATA / '..' / 'dynophore_metadata.json', 'w') as f:\n",
    "    json.dump(dynophore, f)"
   ]
  },
  {
   "cell_type": "markdown",
   "metadata": {},
   "source": [
    "### Superfeatures"
   ]
  },
  {
   "cell_type": "markdown",
   "metadata": {},
   "source": [
    "#### Superfeatures occurrence"
   ]
  },
  {
   "cell_type": "code",
   "execution_count": 7,
   "metadata": {},
   "outputs": [
    {
     "data": {
      "text/html": [
       "<div>\n",
       "<style scoped>\n",
       "    .dataframe tbody tr th:only-of-type {\n",
       "        vertical-align: middle;\n",
       "    }\n",
       "\n",
       "    .dataframe tbody tr th {\n",
       "        vertical-align: top;\n",
       "    }\n",
       "\n",
       "    .dataframe thead th {\n",
       "        text-align: right;\n",
       "    }\n",
       "</style>\n",
       "<table border=\"1\" class=\"dataframe\">\n",
       "  <thead>\n",
       "    <tr style=\"text-align: right;\">\n",
       "      <th></th>\n",
       "      <th>HBA[4606]</th>\n",
       "      <th>HBA[4596]</th>\n",
       "      <th>H[4599,4602,4601,4608,4609,4600]</th>\n",
       "      <th>AR[4622,4615,4623,4613,4614,4621]</th>\n",
       "      <th>HBD[4598]</th>\n",
       "      <th>HBD[4612]</th>\n",
       "      <th>HBA[4619]</th>\n",
       "      <th>H[4615,4623,4622,4613,4621,4614]</th>\n",
       "      <th>HBA[4618]</th>\n",
       "      <th>AR[4605,4607,4603,4606,4604]</th>\n",
       "    </tr>\n",
       "  </thead>\n",
       "  <tbody>\n",
       "    <tr>\n",
       "      <th>0</th>\n",
       "      <td>0</td>\n",
       "      <td>1</td>\n",
       "      <td>1</td>\n",
       "      <td>0</td>\n",
       "      <td>0</td>\n",
       "      <td>0</td>\n",
       "      <td>1</td>\n",
       "      <td>1</td>\n",
       "      <td>0</td>\n",
       "      <td>0</td>\n",
       "    </tr>\n",
       "    <tr>\n",
       "      <th>1</th>\n",
       "      <td>0</td>\n",
       "      <td>1</td>\n",
       "      <td>1</td>\n",
       "      <td>0</td>\n",
       "      <td>0</td>\n",
       "      <td>0</td>\n",
       "      <td>1</td>\n",
       "      <td>1</td>\n",
       "      <td>0</td>\n",
       "      <td>0</td>\n",
       "    </tr>\n",
       "    <tr>\n",
       "      <th>2</th>\n",
       "      <td>0</td>\n",
       "      <td>0</td>\n",
       "      <td>1</td>\n",
       "      <td>0</td>\n",
       "      <td>0</td>\n",
       "      <td>0</td>\n",
       "      <td>0</td>\n",
       "      <td>1</td>\n",
       "      <td>0</td>\n",
       "      <td>0</td>\n",
       "    </tr>\n",
       "    <tr>\n",
       "      <th>3</th>\n",
       "      <td>0</td>\n",
       "      <td>0</td>\n",
       "      <td>1</td>\n",
       "      <td>0</td>\n",
       "      <td>0</td>\n",
       "      <td>0</td>\n",
       "      <td>0</td>\n",
       "      <td>1</td>\n",
       "      <td>0</td>\n",
       "      <td>0</td>\n",
       "    </tr>\n",
       "    <tr>\n",
       "      <th>4</th>\n",
       "      <td>0</td>\n",
       "      <td>0</td>\n",
       "      <td>1</td>\n",
       "      <td>0</td>\n",
       "      <td>0</td>\n",
       "      <td>1</td>\n",
       "      <td>0</td>\n",
       "      <td>1</td>\n",
       "      <td>0</td>\n",
       "      <td>0</td>\n",
       "    </tr>\n",
       "  </tbody>\n",
       "</table>\n",
       "</div>"
      ],
      "text/plain": [
       "   HBA[4606]  HBA[4596]  H[4599,4602,4601,4608,4609,4600]  \\\n",
       "0          0          1                                 1   \n",
       "1          0          1                                 1   \n",
       "2          0          0                                 1   \n",
       "3          0          0                                 1   \n",
       "4          0          0                                 1   \n",
       "\n",
       "   AR[4622,4615,4623,4613,4614,4621]  HBD[4598]  HBD[4612]  HBA[4619]  \\\n",
       "0                                  0          0          0          1   \n",
       "1                                  0          0          0          1   \n",
       "2                                  0          0          0          0   \n",
       "3                                  0          0          0          0   \n",
       "4                                  0          0          1          0   \n",
       "\n",
       "   H[4615,4623,4622,4613,4621,4614]  HBA[4618]  AR[4605,4607,4603,4606,4604]  \n",
       "0                                 1          0                             0  \n",
       "1                                 1          0                             0  \n",
       "2                                 1          0                             0  \n",
       "3                                 1          0                             0  \n",
       "4                                 1          0                             0  "
      ]
     },
     "execution_count": 7,
     "metadata": {},
     "output_type": "execute_result"
    }
   ],
   "source": [
    "occurrence_superfeatures = pd.concat(\n",
    "    [pd.read_csv(superfeature['file'], header=None) for superfeature in dynophore['dynophore']], \n",
    "    axis=1\n",
    ")\n",
    "occurrence_superfeatures.columns = [superfeature['name'] for superfeature in dynophore['dynophore']]\n",
    "occurrence_superfeatures.head()"
   ]
  },
  {
   "cell_type": "markdown",
   "metadata": {},
   "source": [
    "### Interactions"
   ]
  },
  {
   "cell_type": "code",
   "execution_count": 8,
   "metadata": {},
   "outputs": [],
   "source": [
    "def read_interactions(dynophore, type='occurrence'):\n",
    "    \n",
    "    types = ['occurrence', 'distance']\n",
    "    if type == 'occurrence':\n",
    "        type_ix = 1\n",
    "    elif type == 'distance':\n",
    "        type_ix = 0\n",
    "    else:\n",
    "        raise ValueError(f'Wrong type. Select from: {\", \".join(types)}')\n",
    "    \n",
    "    interactions = defaultdict()\n",
    "\n",
    "    for superfeature in dynophore['dynophore']:\n",
    "\n",
    "        interaction = pd.concat(\n",
    "            [pd.read_csv(env_partner['file'], header=None)[type_ix] for env_partner in superfeature['env_partners']], \n",
    "            axis=1\n",
    "        )\n",
    "        interaction.columns = [env_partner['name'] for env_partner in superfeature['env_partners']]\n",
    "        interactions[superfeature['name']] = interaction\n",
    "\n",
    "    return interactions"
   ]
  },
  {
   "cell_type": "markdown",
   "metadata": {},
   "source": [
    "#### Interactions occurrence"
   ]
  },
  {
   "cell_type": "code",
   "execution_count": 9,
   "metadata": {},
   "outputs": [
    {
     "name": "stdout",
     "output_type": "stream",
     "text": [
      "dict_keys(['HBA[4606]', 'HBA[4596]', 'H[4599,4602,4601,4608,4609,4600]', 'AR[4622,4615,4623,4613,4614,4621]', 'HBD[4598]', 'HBD[4612]', 'HBA[4619]', 'H[4615,4623,4622,4613,4621,4614]', 'HBA[4618]', 'AR[4605,4607,4603,4606,4604]'])\n"
     ]
    },
    {
     "data": {
      "text/html": [
       "<div>\n",
       "<style scoped>\n",
       "    .dataframe tbody tr th:only-of-type {\n",
       "        vertical-align: middle;\n",
       "    }\n",
       "\n",
       "    .dataframe tbody tr th {\n",
       "        vertical-align: top;\n",
       "    }\n",
       "\n",
       "    .dataframe thead th {\n",
       "        text-align: right;\n",
       "    }\n",
       "</style>\n",
       "<table border=\"1\" class=\"dataframe\">\n",
       "  <thead>\n",
       "    <tr style=\"text-align: right;\">\n",
       "      <th></th>\n",
       "      <th>GLN-131-A[2061]</th>\n",
       "      <th>ASP-86-A[1319]</th>\n",
       "      <th>LEU-83-A[1263]</th>\n",
       "      <th>GLN-131-A[2057]</th>\n",
       "      <th>ASP-86-A[1320]</th>\n",
       "    </tr>\n",
       "  </thead>\n",
       "  <tbody>\n",
       "    <tr>\n",
       "      <th>0</th>\n",
       "      <td>0</td>\n",
       "      <td>0</td>\n",
       "      <td>0</td>\n",
       "      <td>0</td>\n",
       "      <td>0</td>\n",
       "    </tr>\n",
       "    <tr>\n",
       "      <th>1</th>\n",
       "      <td>0</td>\n",
       "      <td>0</td>\n",
       "      <td>0</td>\n",
       "      <td>0</td>\n",
       "      <td>0</td>\n",
       "    </tr>\n",
       "    <tr>\n",
       "      <th>2</th>\n",
       "      <td>0</td>\n",
       "      <td>0</td>\n",
       "      <td>0</td>\n",
       "      <td>0</td>\n",
       "      <td>0</td>\n",
       "    </tr>\n",
       "    <tr>\n",
       "      <th>3</th>\n",
       "      <td>0</td>\n",
       "      <td>0</td>\n",
       "      <td>0</td>\n",
       "      <td>0</td>\n",
       "      <td>0</td>\n",
       "    </tr>\n",
       "    <tr>\n",
       "      <th>4</th>\n",
       "      <td>0</td>\n",
       "      <td>0</td>\n",
       "      <td>1</td>\n",
       "      <td>0</td>\n",
       "      <td>0</td>\n",
       "    </tr>\n",
       "  </tbody>\n",
       "</table>\n",
       "</div>"
      ],
      "text/plain": [
       "   GLN-131-A[2061]  ASP-86-A[1319]  LEU-83-A[1263]  GLN-131-A[2057]  \\\n",
       "0                0               0               0                0   \n",
       "1                0               0               0                0   \n",
       "2                0               0               0                0   \n",
       "3                0               0               0                0   \n",
       "4                0               0               1                0   \n",
       "\n",
       "   ASP-86-A[1320]  \n",
       "0               0  \n",
       "1               0  \n",
       "2               0  \n",
       "3               0  \n",
       "4               0  "
      ]
     },
     "execution_count": 9,
     "metadata": {},
     "output_type": "execute_result"
    }
   ],
   "source": [
    "interactions_occurrence = read_interactions(dynophore, type='occurrence')\n",
    "print(interactions_occurrence.keys())\n",
    "interactions_occurrence['HBD[4612]'].head()"
   ]
  },
  {
   "cell_type": "markdown",
   "metadata": {},
   "source": [
    "#### Interactions distances"
   ]
  },
  {
   "cell_type": "code",
   "execution_count": 10,
   "metadata": {},
   "outputs": [
    {
     "name": "stdout",
     "output_type": "stream",
     "text": [
      "dict_keys(['HBA[4606]', 'HBA[4596]', 'H[4599,4602,4601,4608,4609,4600]', 'AR[4622,4615,4623,4613,4614,4621]', 'HBD[4598]', 'HBD[4612]', 'HBA[4619]', 'H[4615,4623,4622,4613,4621,4614]', 'HBA[4618]', 'AR[4605,4607,4603,4606,4604]'])\n"
     ]
    },
    {
     "data": {
      "text/html": [
       "<div>\n",
       "<style scoped>\n",
       "    .dataframe tbody tr th:only-of-type {\n",
       "        vertical-align: middle;\n",
       "    }\n",
       "\n",
       "    .dataframe tbody tr th {\n",
       "        vertical-align: top;\n",
       "    }\n",
       "\n",
       "    .dataframe thead th {\n",
       "        text-align: right;\n",
       "    }\n",
       "</style>\n",
       "<table border=\"1\" class=\"dataframe\">\n",
       "  <thead>\n",
       "    <tr style=\"text-align: right;\">\n",
       "      <th></th>\n",
       "      <th>GLN-131-A[2061]</th>\n",
       "      <th>ASP-86-A[1319]</th>\n",
       "      <th>LEU-83-A[1263]</th>\n",
       "      <th>GLN-131-A[2057]</th>\n",
       "      <th>ASP-86-A[1320]</th>\n",
       "    </tr>\n",
       "  </thead>\n",
       "  <tbody>\n",
       "    <tr>\n",
       "      <th>0</th>\n",
       "      <td>11.944555</td>\n",
       "      <td>7.128676</td>\n",
       "      <td>3.427919</td>\n",
       "      <td>6.769520</td>\n",
       "      <td>8.252505</td>\n",
       "    </tr>\n",
       "    <tr>\n",
       "      <th>1</th>\n",
       "      <td>11.944555</td>\n",
       "      <td>7.128676</td>\n",
       "      <td>3.427919</td>\n",
       "      <td>6.769520</td>\n",
       "      <td>8.252505</td>\n",
       "    </tr>\n",
       "    <tr>\n",
       "      <th>2</th>\n",
       "      <td>12.278903</td>\n",
       "      <td>8.653643</td>\n",
       "      <td>3.582377</td>\n",
       "      <td>6.767191</td>\n",
       "      <td>7.264928</td>\n",
       "    </tr>\n",
       "    <tr>\n",
       "      <th>3</th>\n",
       "      <td>12.668950</td>\n",
       "      <td>7.213809</td>\n",
       "      <td>3.543346</td>\n",
       "      <td>7.105429</td>\n",
       "      <td>8.994092</td>\n",
       "    </tr>\n",
       "    <tr>\n",
       "      <th>4</th>\n",
       "      <td>12.911131</td>\n",
       "      <td>9.341150</td>\n",
       "      <td>3.175053</td>\n",
       "      <td>7.417255</td>\n",
       "      <td>7.662991</td>\n",
       "    </tr>\n",
       "  </tbody>\n",
       "</table>\n",
       "</div>"
      ],
      "text/plain": [
       "   GLN-131-A[2061]  ASP-86-A[1319]  LEU-83-A[1263]  GLN-131-A[2057]  \\\n",
       "0        11.944555        7.128676        3.427919         6.769520   \n",
       "1        11.944555        7.128676        3.427919         6.769520   \n",
       "2        12.278903        8.653643        3.582377         6.767191   \n",
       "3        12.668950        7.213809        3.543346         7.105429   \n",
       "4        12.911131        9.341150        3.175053         7.417255   \n",
       "\n",
       "   ASP-86-A[1320]  \n",
       "0        8.252505  \n",
       "1        8.252505  \n",
       "2        7.264928  \n",
       "3        8.994092  \n",
       "4        7.662991  "
      ]
     },
     "execution_count": 10,
     "metadata": {},
     "output_type": "execute_result"
    }
   ],
   "source": [
    "interactions_distance = read_interactions(dynophore, type='distance')\n",
    "print(interactions_distance.keys())\n",
    "interactions_distance['HBD[4612]'].head()"
   ]
  },
  {
   "cell_type": "code",
   "execution_count": null,
   "metadata": {},
   "outputs": [],
   "source": []
  },
  {
   "cell_type": "code",
   "execution_count": null,
   "metadata": {},
   "outputs": [],
   "source": []
  },
  {
   "cell_type": "code",
   "execution_count": null,
   "metadata": {},
   "outputs": [],
   "source": []
  }
 ],
 "metadata": {
  "kernelspec": {
   "display_name": "dynophores",
   "language": "python",
   "name": "dynophores"
  },
  "language_info": {
   "codemirror_mode": {
    "name": "ipython",
    "version": 3
   },
   "file_extension": ".py",
   "mimetype": "text/x-python",
   "name": "python",
   "nbconvert_exporter": "python",
   "pygments_lexer": "ipython3",
   "version": "3.8.3"
  }
 },
 "nbformat": 4,
 "nbformat_minor": 4
}
